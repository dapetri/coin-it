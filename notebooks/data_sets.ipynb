{
 "cells": [
  {
   "cell_type": "code",
   "execution_count": 67,
   "metadata": {},
   "outputs": [
    {
     "name": "stdout",
     "output_type": "stream",
     "text": [
      "                     Date     Open     High      Low    Close     Volume\n",
      "0    2022-01-04T17:56:00Z  3407.40  3410.39  3409.86  3408.72   4.072668\n",
      "1    2022-01-04T17:55:00Z  3409.64  3412.45  3412.45  3410.27   4.717254\n",
      "2    2022-01-04T17:54:00Z  3411.11  3413.09  3412.77  3412.44   4.438463\n",
      "3    2022-01-04T17:53:00Z  3411.60  3415.89  3415.06  3412.66   9.871400\n",
      "4    2022-01-04T17:52:00Z  3413.52  3416.18  3416.17  3415.20   1.983903\n",
      "..                    ...      ...      ...      ...      ...        ...\n",
      "295  2022-01-04T13:01:00Z  3400.22  3401.47  3400.22  3400.62   2.909602\n",
      "296  2022-01-04T13:00:00Z  3398.35  3402.30  3399.74  3400.13  36.592823\n",
      "297  2022-01-04T12:59:00Z  3397.99  3400.00  3397.99  3398.91   3.449301\n",
      "298  2022-01-04T12:58:00Z  3397.60  3399.24  3398.03  3398.50   1.167799\n",
      "299  2022-01-04T12:57:00Z  3398.07  3400.00  3399.64  3398.07   2.214364\n",
      "\n",
      "[300 rows x 6 columns]\n",
      "2022-01-04T12:57:00Z\n",
      "                     Date     Open     High      Low    Close     Volume\n",
      "0    2022-01-04T17:59:00Z  3399.51  3403.27  3402.40  3400.28   6.379995\n",
      "1    2022-01-04T17:58:00Z  3401.73  3407.28  3407.09  3402.59   4.506592\n",
      "2    2022-01-04T17:57:00Z  3405.58  3408.79  3408.77  3405.58   2.552829\n",
      "3    2022-01-04T17:56:00Z  3407.40  3410.39  3409.86  3408.78   4.440573\n",
      "4    2022-01-04T17:55:00Z  3409.64  3412.45  3412.45  3410.27   4.717254\n",
      "..                    ...      ...      ...      ...      ...        ...\n",
      "295  2022-01-04T13:04:00Z  3393.72  3397.03  3396.49  3394.39   2.586378\n",
      "296  2022-01-04T13:03:00Z  3396.25  3398.72  3396.78  3396.75   2.482106\n",
      "297  2022-01-04T13:02:00Z  3397.40  3401.72  3401.00  3397.40   8.783047\n",
      "298  2022-01-04T13:01:00Z  3400.22  3401.47  3400.22  3400.62   2.909602\n",
      "299  2022-01-04T13:00:00Z  3398.35  3402.30  3399.74  3400.13  36.592823\n",
      "\n",
      "[300 rows x 6 columns]\n"
     ]
    },
    {
     "name": "stderr",
     "output_type": "stream",
     "text": [
      "/home/david/miniconda3/envs/coin-it_dataset/lib/python3.9/site-packages/cryptography/hazmat/backends/openssl/x509.py:14: CryptographyDeprecationWarning: This version of cryptography contains a temporary pyOpenSSL fallback path. Upgrade pyOpenSSL now.\n",
      "  warnings.warn(\n"
     ]
    }
   ],
   "source": [
    "import cbpro\n",
    "import pandas as pd\n",
    "granularity = 60\n",
    "product_id = 'ETH-EUR'\n",
    "\n",
    "c = cbpro.PublicClient()\n",
    "h_list = c.get_product_historic_rates(product_id=product_id, granularity=granularity)\n",
    "h = pd.DataFrame(h_list)\n",
    "h.columns = [\"Date\",\"Open\",\"High\",\"Low\",\"Close\",\"Volume\"]\n",
    "h['Date'] = pd.to_datetime(h['Date'], unit='s').dt.strftime('%Y-%m-%dT%H:%M:%SZ') #to iso-8601\n",
    "#h['Date'] = pd.to_datetime(h['Date'], unit='s')\n",
    "#h.set_index('Date', inplace=True)\n",
    "#h.sort_values(by='Date', ascending=True, inplace=True)\n",
    "print(h)\n",
    "#print(h['Date'][0])\n",
    "print(h['Date'][299])\n",
    "h_list_next = c.get_product_historic_rates(product_id=product_id, granularity=granularity, end=h['Date'][299])\n",
    "h_next = pd.DataFrame(h_list_next)\n",
    "h_next.columns = [\"Date\",\"Open\",\"High\",\"Low\",\"Close\",\"Volume\"]\n",
    "h_next['Date'] = pd.to_datetime(h_next['Date'], unit='s').dt.strftime('%Y-%m-%dT%H:%M:%SZ') #to iso-8601\n",
    "print(h_next)"
   ]
  },
  {
   "cell_type": "code",
   "execution_count": 74,
   "metadata": {},
   "outputs": [
    {
     "name": "stderr",
     "output_type": "stream",
     "text": [
      "/home/david/miniconda3/envs/coin-it_dataset/lib/python3.9/site-packages/cryptography/hazmat/backends/openssl/x509.py:14: CryptographyDeprecationWarning: This version of cryptography contains a temporary pyOpenSSL fallback path. Upgrade pyOpenSSL now.\n",
      "  warnings.warn(\n"
     ]
    },
    {
     "name": "stdout",
     "output_type": "stream",
     "text": [
      "Provisional Start: 2021-12-01T00:00:00\n",
      "Provisional End: 2021-12-01T05:00:00\n",
      "Provisional Start: 2021-12-01T05:00:00\n",
      "Provisional End: 2021-12-01T10:00:00\n",
      "Provisional Start: 2021-12-01T10:00:00\n",
      "Provisional End: 2021-12-01T15:00:00\n",
      "Provisional Start: 2021-12-01T15:00:00\n",
      "Provisional End: 2021-12-01T20:00:00\n",
      "Provisional Start: 2021-12-01T20:00:00\n",
      "Provisional End: 2021-12-02T01:00:00\n",
      "Provisional Start: 2021-12-02T01:00:00\n",
      "Provisional End: 2021-12-02T06:00:00\n",
      "Provisional Start: 2021-12-02T06:00:00\n",
      "Provisional End: 2021-12-02T11:00:00\n",
      "Provisional Start: 2021-12-02T11:00:00\n",
      "Provisional End: 2021-12-02T16:00:00\n",
      "Provisional Start: 2021-12-02T16:00:00\n",
      "Provisional End: 2021-12-02T21:00:00\n",
      "Provisional Start: 2021-12-02T21:00:00\n",
      "Provisional End: 2021-12-03T02:00:00\n",
      "Provisional Start: 2021-12-03T02:00:00\n",
      "Provisional End: 2021-12-03T07:00:00\n",
      "Provisional Start: 2021-12-03T07:00:00\n",
      "Provisional End: 2021-12-03T12:00:00\n",
      "Provisional Start: 2021-12-03T12:00:00\n",
      "Provisional End: 2021-12-03T17:00:00\n",
      "Provisional Start: 2021-12-03T17:00:00\n",
      "Provisional End: 2021-12-03T22:00:00\n",
      "Provisional Start: 2021-12-03T22:00:00\n",
      "Provisional End: 2021-12-04T03:00:00\n",
      "Provisional Start: 2021-12-04T03:00:00\n",
      "Provisional End: 2021-12-04T08:00:00\n",
      "Provisional Start: 2021-12-04T08:00:00\n",
      "Provisional End: 2021-12-04T13:00:00\n",
      "Provisional Start: 2021-12-04T13:00:00\n",
      "Provisional End: 2021-12-04T18:00:00\n",
      "Provisional Start: 2021-12-04T18:00:00\n",
      "Provisional End: 2021-12-04T23:00:00\n",
      "Provisional Start: 2021-12-04T23:00:00\n",
      "Provisional End: 2021-12-05T04:00:00\n"
     ]
    },
    {
     "ename": "KeyboardInterrupt",
     "evalue": "",
     "output_type": "error",
     "traceback": [
      "\u001b[0;31m---------------------------------------------------------------------------\u001b[0m",
      "\u001b[0;31mKeyboardInterrupt\u001b[0m                         Traceback (most recent call last)",
      "\u001b[0;32m/tmp/ipykernel_70056/258171631.py\u001b[0m in \u001b[0;36m<module>\u001b[0;34m\u001b[0m\n\u001b[1;32m      3\u001b[0m \u001b[0;34m\u001b[0m\u001b[0m\n\u001b[1;32m      4\u001b[0m \u001b[0;31m#Cryptocurrencies(coin_search='ETH').find_crypto_pairs()\u001b[0m\u001b[0;34m\u001b[0m\u001b[0;34m\u001b[0m\u001b[0m\n\u001b[0;32m----> 5\u001b[0;31m \u001b[0mnew\u001b[0m \u001b[0;34m=\u001b[0m \u001b[0mHistoricalData\u001b[0m\u001b[0;34m(\u001b[0m\u001b[0;34m'ETH-EUR'\u001b[0m\u001b[0;34m,\u001b[0m\u001b[0;36m60\u001b[0m\u001b[0;34m,\u001b[0m\u001b[0;34m'2021-12-01-00-00'\u001b[0m\u001b[0;34m,\u001b[0m \u001b[0mverbose\u001b[0m\u001b[0;34m=\u001b[0m\u001b[0;32mFalse\u001b[0m\u001b[0;34m)\u001b[0m\u001b[0;34m.\u001b[0m\u001b[0mretrieve_data\u001b[0m\u001b[0;34m(\u001b[0m\u001b[0;34m)\u001b[0m\u001b[0;34m\u001b[0m\u001b[0;34m\u001b[0m\u001b[0m\n\u001b[0m",
      "\u001b[0;32m~/miniconda3/envs/coin-it_dataset/lib/python3.9/site-packages/Historic_Crypto/HistoricalData.py\u001b[0m in \u001b[0;36mretrieve_data\u001b[0;34m(self)\u001b[0m\n\u001b[1;32m    175\u001b[0m                     \u001b[0;32mif\u001b[0m \u001b[0;32mnot\u001b[0m \u001b[0mdataset\u001b[0m\u001b[0;34m.\u001b[0m\u001b[0mempty\u001b[0m\u001b[0;34m:\u001b[0m\u001b[0;34m\u001b[0m\u001b[0;34m\u001b[0m\u001b[0m\n\u001b[1;32m    176\u001b[0m                         \u001b[0mdata\u001b[0m \u001b[0;34m=\u001b[0m \u001b[0mdata\u001b[0m\u001b[0;34m.\u001b[0m\u001b[0mappend\u001b[0m\u001b[0;34m(\u001b[0m\u001b[0mdataset\u001b[0m\u001b[0;34m)\u001b[0m\u001b[0;34m\u001b[0m\u001b[0;34m\u001b[0m\u001b[0m\n\u001b[0;32m--> 177\u001b[0;31m                         \u001b[0mtime\u001b[0m\u001b[0;34m.\u001b[0m\u001b[0msleep\u001b[0m\u001b[0;34m(\u001b[0m\u001b[0mrandint\u001b[0m\u001b[0;34m(\u001b[0m\u001b[0;36m0\u001b[0m\u001b[0;34m,\u001b[0m \u001b[0;36m2\u001b[0m\u001b[0;34m)\u001b[0m\u001b[0;34m)\u001b[0m\u001b[0;34m\u001b[0m\u001b[0;34m\u001b[0m\u001b[0m\n\u001b[0m\u001b[1;32m    178\u001b[0m                     \u001b[0;32melse\u001b[0m\u001b[0;34m:\u001b[0m\u001b[0;34m\u001b[0m\u001b[0;34m\u001b[0m\u001b[0m\n\u001b[1;32m    179\u001b[0m                         print(\"\"\"CoinBase Pro API did not have available data for '{}' beginning at {}.  \n",
      "\u001b[0;31mKeyboardInterrupt\u001b[0m: "
     ]
    }
   ],
   "source": [
    "from Historic_Crypto import Cryptocurrencies\n",
    "from Historic_Crypto import HistoricalData\n",
    "\n",
    "#Cryptocurrencies(coin_search='ETH').find_crypto_pairs()\n",
    "new = HistoricalData('ETH-EUR',21600,'2021-12-01-00-00', verbose=False).retrieve_data()\n"
   ]
  },
  {
   "cell_type": "code",
   "execution_count": null,
   "metadata": {},
   "outputs": [],
   "source": []
  }
 ],
 "metadata": {
  "interpreter": {
   "hash": "c5a8c1ee5dec8085e7ca04e653b9a13ccab712b440e1bb9ed0120cafc6876f1a"
  },
  "kernelspec": {
   "display_name": "Python 3.10.1 64-bit ('coin-it_dataset': conda)",
   "language": "python",
   "name": "python3"
  },
  "language_info": {
   "codemirror_mode": {
    "name": "ipython",
    "version": 3
   },
   "file_extension": ".py",
   "mimetype": "text/x-python",
   "name": "python",
   "nbconvert_exporter": "python",
   "pygments_lexer": "ipython3",
   "version": "3.9.9"
  },
  "orig_nbformat": 4
 },
 "nbformat": 4,
 "nbformat_minor": 2
}
