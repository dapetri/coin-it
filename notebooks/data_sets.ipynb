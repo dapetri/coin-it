{
 "cells": [
  {
   "cell_type": "code",
   "execution_count": 11,
   "metadata": {},
   "outputs": [],
   "source": [
    "import sys  \n",
    "sys.path.append('../src/data')"
   ]
  },
  {
   "cell_type": "code",
   "execution_count": 12,
   "metadata": {},
   "outputs": [],
   "source": [
    "from data.make_dataset import DatasetMaker"
   ]
  },
  {
   "cell_type": "code",
   "execution_count": 13,
   "metadata": {},
   "outputs": [
    {
     "name": "stdout",
     "output_type": "stream",
     "text": [
      "Provisional Start: 2020-05-05T00:00:00\n",
      "Provisional End: 2021-03-01T00:00:00\n",
      "Provisional Start: 2021-03-01T00:00:00\n",
      "Provisional End: 2021-12-26T00:00:00\n",
      "Provisional Start: 2021-12-26T00:00:00\n",
      "Provisional End: 2022-10-22T00:00:00\n"
     ]
    }
   ],
   "source": [
    "dm = DatasetMaker(\n",
    "    crypto_currencies=['BTC'], \n",
    "    granularity=86400, \n",
    "    start_date='2020-05-05-00-00',\n",
    "    # file_directory='../data/raw/'\n",
    ")\n",
    "                \n",
    "dm.update_raw_datasets()"
   ]
  },
  {
   "cell_type": "code",
   "execution_count": 15,
   "metadata": {},
   "outputs": [],
   "source": [
    "for i in range(0):\n",
    "    print(i)"
   ]
  },
  {
   "cell_type": "code",
   "execution_count": 12,
   "metadata": {},
   "outputs": [
    {
     "name": "stdout",
     "output_type": "stream",
     "text": [
      "0         NaN\n",
      "1         NaN\n",
      "2         NaN\n",
      "3         NaN\n",
      "4         NaN\n",
      "5         NaN\n",
      "6         NaN\n",
      "7         NaN\n",
      "8         NaN\n",
      "9         NaN\n",
      "10        NaN\n",
      "11        NaN\n",
      "12        NaN\n",
      "13        NaN\n",
      "14        NaN\n",
      "15        NaN\n",
      "16        NaN\n",
      "17        NaN\n",
      "18        NaN\n",
      "19    0.00003\n",
      "Name: hband, dtype: float64\n"
     ]
    }
   ],
   "source": [
    "import pandas as pd\n",
    "from ta import add_all_ta_features\n",
    "from ta.utils import dropna\n",
    "df = pd.read_csv('../data/raw/ADA-BTC--g21600--sd2022-01-04-00-00--ed2022-01-08-18-00.csv')\n",
    "df = add_all_ta_features(df, open='open', close='close', high='high', low='low', volume='volume')\n",
    "print(df)"
   ]
  },
  {
   "cell_type": "code",
   "execution_count": 1,
   "metadata": {},
   "outputs": [
    {
     "data": {
      "text/plain": [
       "'abc'"
      ]
     },
     "execution_count": 1,
     "metadata": {},
     "output_type": "execute_result"
    }
   ],
   "source": [
    "s = 'abcdf'\n",
    "s[:3]"
   ]
  },
  {
   "cell_type": "code",
   "execution_count": 12,
   "metadata": {},
   "outputs": [
    {
     "data": {
      "text/plain": [
       "5"
      ]
     },
     "execution_count": 12,
     "metadata": {},
     "output_type": "execute_result"
    }
   ],
   "source": [
    "from datetime import datetime\n",
    "datetime.now().year - 2017\n"
   ]
  },
  {
   "cell_type": "code",
   "execution_count": 17,
   "metadata": {},
   "outputs": [
    {
     "name": "stderr",
     "output_type": "stream",
     "text": [
      "/home/david/miniconda3/envs/coin-it_dataset/lib/python3.9/site-packages/cryptography/hazmat/backends/openssl/x509.py:14: CryptographyDeprecationWarning: This version of cryptography contains a temporary pyOpenSSL fallback path. Upgrade pyOpenSSL now.\n",
      "  warnings.warn(\n"
     ]
    },
    {
     "name": "stdout",
     "output_type": "stream",
     "text": [
      "                         low     high     open    close        volume\n",
      "time                                                                 \n",
      "2022-01-10 06:00:00  2731.86  2803.28  2801.32  2744.31   3337.552755\n",
      "2022-01-10 12:00:00  2595.05  2749.57  2743.39  2661.30  14004.998521\n",
      "2022-01-10 18:00:00  2653.27  2735.31  2661.28  2722.89   4409.796777\n",
      "2022-01-11 00:00:00  2695.58  2759.06  2721.89  2744.98   2326.297478\n",
      "                         low     high     open    close       volume\n",
      "time                                                                \n",
      "2022-01-11 06:00:00  2728.06  2773.59  2744.33  2747.94  4128.161868\n",
      "2022-01-11 12:00:00  2718.78  2879.93  2746.98  2848.83  8314.627930\n",
      "2022-01-11 18:00:00  2832.00  2865.53  2849.03  2853.01  3732.108233\n",
      "2022-01-12 00:00:00  2832.79  2870.16  2852.22  2841.48  1452.384307\n"
     ]
    }
   ],
   "source": [
    "from Historic_Crypto import HistoricalData\n",
    "x = HistoricalData(\n",
    "            ticker='ETH-EUR',\n",
    "            granularity=60,\n",
    "            start_date='2022-01-10-00-00',\n",
    "            end_date='2022-01-11-00-00',\n",
    "            verbose=False\n",
    "        ).retrieve_data()\n",
    "y = HistoricalData(\n",
    "            ticker='ETH-EUR',\n",
    "            granularity=60,\n",
    "            start_date='2022-01-11-00-00',\n",
    "            end_date='2022-01-12-00-00',\n",
    "            verbose=False\n",
    "        ).retrieve_data()\n",
    "\n",
    "print(x.iloc[1:])\n",
    "print(y.iloc[1:])\n",
    "\n"
   ]
  }
 ],
 "metadata": {
  "interpreter": {
   "hash": "c5a8c1ee5dec8085e7ca04e653b9a13ccab712b440e1bb9ed0120cafc6876f1a"
  },
  "kernelspec": {
   "display_name": "Python 3.10.1 64-bit ('coin-it_dataset': conda)",
   "language": "python",
   "name": "python3"
  },
  "language_info": {
   "codemirror_mode": {
    "name": "ipython",
    "version": 3
   },
   "file_extension": ".py",
   "mimetype": "text/x-python",
   "name": "python",
   "nbconvert_exporter": "python",
   "pygments_lexer": "ipython3",
   "version": "3.9.9"
  },
  "orig_nbformat": 4
 },
 "nbformat": 4,
 "nbformat_minor": 2
}
