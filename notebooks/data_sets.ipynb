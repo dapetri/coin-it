{
 "cells": [
  {
   "cell_type": "code",
   "execution_count": 1,
   "metadata": {},
   "outputs": [],
   "source": [
    "import sys  \n",
    "sys.path.append('../src/data')"
   ]
  },
  {
   "cell_type": "code",
   "execution_count": 3,
   "metadata": {},
   "outputs": [
    {
     "name": "stdout",
     "output_type": "stream",
     "text": [
      "                         low     high     open    close    volume\n",
      "time                                                             \n",
      "2017-01-02 16:36:00  0.00818  0.00818  0.00818  0.00818  1.779336\n",
      "2017-01-02 16:37:00  0.00820  0.00822  0.00822  0.00820  4.241200\n",
      "2017-01-02 16:38:00  0.00820  0.00820  0.00820  0.00820  2.350560\n",
      "2017-01-02 16:55:00  0.00815  0.00817  0.00817  0.00815  3.790400\n",
      "2017-01-02 16:58:00  0.00819  0.00819  0.00819  0.00819  1.909200\n",
      "2017-01-02 16:59:00  0.00818  0.00818  0.00818  0.00818  2.833900\n"
     ]
    },
    {
     "name": "stderr",
     "output_type": "stream",
     "text": [
      "/home/dapetri/miniconda3/envs/coin-it_dataset/lib/python3.9/site-packages/cryptography/hazmat/backends/openssl/x509.py:14: CryptographyDeprecationWarning: This version of cryptography contains a temporary pyOpenSSL fallback path. Upgrade pyOpenSSL now.\n",
      "  warnings.warn(\n"
     ]
    }
   ],
   "source": [
    "from Historic_Crypto import HistoricalData\n",
    "x = HistoricalData(\n",
    "            ticker='ETH-BTC',\n",
    "            granularity=60,\n",
    "            start_date='2017-01-02-16-36',\n",
    "            end_date='2017-01-02-16-59',\n",
    "            verbose=False\n",
    "        ).retrieve_data()\n",
    "# y = HistoricalData(\n",
    "#             ticker='ETH-EUR',\n",
    "#             granularity=60,\n",
    "#             start_date='2022-01-11-00-00',\n",
    "#             end_date='2022-01-12-00-00',\n",
    "#             verbose=False\n",
    "#         ).retrieve_data()\n",
    "\n",
    "# print(x.iloc[1:])\n",
    "# print(y.iloc[1:])\n",
    "print(x)\n",
    "\n"
   ]
  },
  {
   "cell_type": "code",
   "execution_count": null,
   "metadata": {},
   "outputs": [],
   "source": []
  }
 ],
 "metadata": {
  "interpreter": {
   "hash": "c5a8c1ee5dec8085e7ca04e653b9a13ccab712b440e1bb9ed0120cafc6876f1a"
  },
  "kernelspec": {
   "display_name": "Python 3.10.1 64-bit ('coin-it_dataset': conda)",
   "language": "python",
   "name": "python3"
  },
  "language_info": {
   "codemirror_mode": {
    "name": "ipython",
    "version": 3
   },
   "file_extension": ".py",
   "mimetype": "text/x-python",
   "name": "python",
   "nbconvert_exporter": "python",
   "pygments_lexer": "ipython3",
   "version": "3.9.9"
  },
  "orig_nbformat": 4
 },
 "nbformat": 4,
 "nbformat_minor": 2
}
